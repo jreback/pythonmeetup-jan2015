{
 "metadata": {
  "name": "",
  "signature": "sha256:c1e0898fbe002c756b100f08cc5816d92a8dde1c6d42ab55fe42aa48f9aff83d"
 },
 "nbformat": 3,
 "nbformat_minor": 0,
 "worksheets": [
  {
   "cells": [
    {
     "cell_type": "heading",
     "level": 1,
     "metadata": {},
     "source": [
      "Timedeltas"
     ]
    },
    {
     "cell_type": "markdown",
     "metadata": {},
     "source": [
      "docs: http://pandas.pydata.org/pandas-docs/stable/timedeltas.html"
     ]
    },
    {
     "cell_type": "code",
     "collapsed": false,
     "input": [
      "pd.set_option('max_rows',12)\n",
      "from IPython.display import display as disp"
     ],
     "language": "python",
     "metadata": {},
     "outputs": [],
     "prompt_number": 52
    },
    {
     "cell_type": "heading",
     "level": 3,
     "metadata": {},
     "source": [
      "constructors"
     ]
    },
    {
     "cell_type": "code",
     "collapsed": false,
     "input": [
      "Timedelta('1 days 2 hours')"
     ],
     "language": "python",
     "metadata": {},
     "outputs": [
      {
       "metadata": {},
       "output_type": "pyout",
       "prompt_number": 53,
       "text": [
        "Timedelta('1 days 02:00:00')"
       ]
      }
     ],
     "prompt_number": 53
    },
    {
     "cell_type": "code",
     "collapsed": false,
     "input": [
      "Timedelta('-1 days 2 min 3us')"
     ],
     "language": "python",
     "metadata": {},
     "outputs": [
      {
       "metadata": {},
       "output_type": "pyout",
       "prompt_number": 54,
       "text": [
        "Timedelta('-2 days +23:57:59.999997')"
       ]
      }
     ],
     "prompt_number": 54
    },
    {
     "cell_type": "code",
     "collapsed": false,
     "input": [
      "Timedelta(days=1,seconds=1)"
     ],
     "language": "python",
     "metadata": {},
     "outputs": [
      {
       "metadata": {},
       "output_type": "pyout",
       "prompt_number": 55,
       "text": [
        "Timedelta('1 days 00:00:01')"
       ]
      }
     ],
     "prompt_number": 55
    },
    {
     "cell_type": "code",
     "collapsed": false,
     "input": [
      "# units\n",
      "Timedelta(1,unit='d')"
     ],
     "language": "python",
     "metadata": {},
     "outputs": [
      {
       "metadata": {},
       "output_type": "pyout",
       "prompt_number": 56,
       "text": [
        "Timedelta('1 days 00:00:00')"
       ]
      }
     ],
     "prompt_number": 56
    },
    {
     "cell_type": "code",
     "collapsed": false,
     "input": [
      "pd.to_timedelta(range(5),unit='d')"
     ],
     "language": "python",
     "metadata": {},
     "outputs": [
      {
       "metadata": {},
       "output_type": "pyout",
       "prompt_number": 57,
       "text": [
        "<class 'pandas.tseries.tdi.TimedeltaIndex'>\n",
        "['0 days', ..., '4 days']\n",
        "Length: 5, Freq: None"
       ]
      }
     ],
     "prompt_number": 57
    },
    {
     "cell_type": "code",
     "collapsed": false,
     "input": [
      "pd.to_timedelta(['1 days','00:05:23.12345'])"
     ],
     "language": "python",
     "metadata": {},
     "outputs": [
      {
       "metadata": {},
       "output_type": "pyout",
       "prompt_number": 58,
       "text": [
        "<class 'pandas.tseries.tdi.TimedeltaIndex'>\n",
        "['1 days 00:00:00', '0 days 00:05:23.123450']\n",
        "Length: 2, Freq: None"
       ]
      }
     ],
     "prompt_number": 58
    },
    {
     "cell_type": "code",
     "collapsed": false,
     "input": [
      "pd.timedelta_range('1 days',periods=5,freq='10s')"
     ],
     "language": "python",
     "metadata": {},
     "outputs": [
      {
       "metadata": {},
       "output_type": "pyout",
       "prompt_number": 59,
       "text": [
        "<class 'pandas.tseries.tdi.TimedeltaIndex'>\n",
        "['1 days 00:00:00', ..., '1 days 00:00:40']\n",
        "Length: 5, Freq: <10 * Seconds>"
       ]
      }
     ],
     "prompt_number": 59
    },
    {
     "cell_type": "heading",
     "level": 3,
     "metadata": {},
     "source": [
      "creation from dates"
     ]
    },
    {
     "cell_type": "code",
     "collapsed": false,
     "input": [
      "dr = pd.date_range('20140101 09:05:03',periods=5,freq='20s')\n",
      "dr"
     ],
     "language": "python",
     "metadata": {},
     "outputs": [
      {
       "metadata": {},
       "output_type": "pyout",
       "prompt_number": 60,
       "text": [
        "<class 'pandas.tseries.index.DatetimeIndex'>\n",
        "[2014-01-01 09:05:03, ..., 2014-01-01 09:06:23]\n",
        "Length: 5, Freq: 20S, Timezone: None"
       ]
      }
     ],
     "prompt_number": 60
    },
    {
     "cell_type": "code",
     "collapsed": false,
     "input": [
      "dr - dr[0]"
     ],
     "language": "python",
     "metadata": {},
     "outputs": [
      {
       "metadata": {},
       "output_type": "pyout",
       "prompt_number": 61,
       "text": [
        "<class 'pandas.tseries.tdi.TimedeltaIndex'>\n",
        "['00:00:00', ..., '00:01:20']\n",
        "Length: 5, Freq: None"
       ]
      }
     ],
     "prompt_number": 61
    },
    {
     "cell_type": "code",
     "collapsed": false,
     "input": [
      "(dr - dr[0]).tolist()"
     ],
     "language": "python",
     "metadata": {},
     "outputs": [
      {
       "metadata": {},
       "output_type": "pyout",
       "prompt_number": 62,
       "text": [
        "[Timedelta('0 days 00:00:00'),\n",
        " Timedelta('0 days 00:00:20'),\n",
        " Timedelta('0 days 00:00:40'),\n",
        " Timedelta('0 days 00:01:00'),\n",
        " Timedelta('0 days 00:01:20')]"
       ]
      }
     ],
     "prompt_number": 62
    },
    {
     "cell_type": "code",
     "collapsed": false,
     "input": [
      "dr + Timedelta('1d')"
     ],
     "language": "python",
     "metadata": {},
     "outputs": [
      {
       "metadata": {},
       "output_type": "pyout",
       "prompt_number": 63,
       "text": [
        "<class 'pandas.tseries.index.DatetimeIndex'>\n",
        "[2014-01-02 09:05:03, ..., 2014-01-02 09:06:23]\n",
        "Length: 5, Freq: 20S, Timezone: None"
       ]
      }
     ],
     "prompt_number": 63
    },
    {
     "cell_type": "heading",
     "level": 3,
     "metadata": {},
     "source": [
      "ops"
     ]
    },
    {
     "cell_type": "code",
     "collapsed": false,
     "input": [
      "s = Series(dr - dr[0])\n",
      "s.iloc[1] = np.nan\n",
      "s"
     ],
     "language": "python",
     "metadata": {},
     "outputs": [
      {
       "metadata": {},
       "output_type": "pyout",
       "prompt_number": 64,
       "text": [
        "0   00:00:00\n",
        "1        NaT\n",
        "2   00:00:40\n",
        "3   00:01:00\n",
        "4   00:01:20\n",
        "dtype: timedelta64[ns]"
       ]
      }
     ],
     "prompt_number": 64
    },
    {
     "cell_type": "code",
     "collapsed": false,
     "input": [
      "s.describe()"
     ],
     "language": "python",
     "metadata": {},
     "outputs": [
      {
       "metadata": {},
       "output_type": "pyout",
       "prompt_number": 65,
       "text": [
        "count                         4\n",
        "mean            0 days 00:00:45\n",
        "std      0 days 00:00:34.156502\n",
        "min             0 days 00:00:00\n",
        "25%             0 days 00:00:30\n",
        "50%             0 days 00:00:50\n",
        "75%             0 days 00:01:05\n",
        "max             0 days 00:01:20\n",
        "dtype: object"
       ]
      }
     ],
     "prompt_number": 65
    },
    {
     "cell_type": "heading",
     "level": 3,
     "metadata": {},
     "source": [
      "frequency conversion"
     ]
    },
    {
     "cell_type": "code",
     "collapsed": false,
     "input": [
      "s.astype('timedelta64[s]')"
     ],
     "language": "python",
     "metadata": {},
     "outputs": [
      {
       "metadata": {},
       "output_type": "pyout",
       "prompt_number": 66,
       "text": [
        "0     0\n",
        "1   NaN\n",
        "2    40\n",
        "3    60\n",
        "4    80\n",
        "dtype: float64"
       ]
      }
     ],
     "prompt_number": 66
    },
    {
     "cell_type": "code",
     "collapsed": false,
     "input": [
      "s / np.timedelta64(1,'s')"
     ],
     "language": "python",
     "metadata": {},
     "outputs": [
      {
       "metadata": {},
       "output_type": "pyout",
       "prompt_number": 67,
       "text": [
        "0     0\n",
        "1   NaN\n",
        "2    40\n",
        "3    60\n",
        "4    80\n",
        "dtype: float64"
       ]
      }
     ],
     "prompt_number": 67
    },
    {
     "cell_type": "code",
     "collapsed": false,
     "input": [
      "s.astype('timedelta64[D]')"
     ],
     "language": "python",
     "metadata": {},
     "outputs": [
      {
       "metadata": {},
       "output_type": "pyout",
       "prompt_number": 68,
       "text": [
        "0     0\n",
        "1   NaN\n",
        "2     0\n",
        "3     0\n",
        "4     0\n",
        "dtype: float64"
       ]
      }
     ],
     "prompt_number": 68
    },
    {
     "cell_type": "code",
     "collapsed": false,
     "input": [
      "s / np.timedelta64(1,'D')"
     ],
     "language": "python",
     "metadata": {},
     "outputs": [
      {
       "metadata": {},
       "output_type": "pyout",
       "prompt_number": 69,
       "text": [
        "0    0.000000\n",
        "1         NaN\n",
        "2    0.000463\n",
        "3    0.000694\n",
        "4    0.000926\n",
        "dtype: float64"
       ]
      }
     ],
     "prompt_number": 69
    },
    {
     "cell_type": "heading",
     "level": 3,
     "metadata": {},
     "source": [
      "place value"
     ]
    },
    {
     "cell_type": "code",
     "collapsed": false,
     "input": [
      "s.dt.seconds"
     ],
     "language": "python",
     "metadata": {},
     "outputs": [
      {
       "metadata": {},
       "output_type": "pyout",
       "prompt_number": 70,
       "text": [
        "0     0\n",
        "1   NaN\n",
        "2    40\n",
        "3     0\n",
        "4    20\n",
        "dtype: float64"
       ]
      }
     ],
     "prompt_number": 70
    },
    {
     "cell_type": "code",
     "collapsed": false,
     "input": [
      "s.dt.components"
     ],
     "language": "python",
     "metadata": {},
     "outputs": [
      {
       "html": [
        "<div style=\"max-height:1000px;max-width:1500px;overflow:auto;\">\n",
        "<table border=\"1\" class=\"dataframe\">\n",
        "  <thead>\n",
        "    <tr style=\"text-align: right;\">\n",
        "      <th></th>\n",
        "      <th>days</th>\n",
        "      <th>hours</th>\n",
        "      <th>minutes</th>\n",
        "      <th>seconds</th>\n",
        "      <th>milliseconds</th>\n",
        "      <th>microseconds</th>\n",
        "      <th>nanoseconds</th>\n",
        "    </tr>\n",
        "  </thead>\n",
        "  <tbody>\n",
        "    <tr>\n",
        "      <th>0</th>\n",
        "      <td>  0</td>\n",
        "      <td>  0</td>\n",
        "      <td>  0</td>\n",
        "      <td>  0</td>\n",
        "      <td>  0</td>\n",
        "      <td>  0</td>\n",
        "      <td>  0</td>\n",
        "    </tr>\n",
        "    <tr>\n",
        "      <th>1</th>\n",
        "      <td>NaN</td>\n",
        "      <td>NaN</td>\n",
        "      <td>NaN</td>\n",
        "      <td>NaN</td>\n",
        "      <td>NaN</td>\n",
        "      <td>NaN</td>\n",
        "      <td>NaN</td>\n",
        "    </tr>\n",
        "    <tr>\n",
        "      <th>2</th>\n",
        "      <td>  0</td>\n",
        "      <td>  0</td>\n",
        "      <td>  0</td>\n",
        "      <td> 40</td>\n",
        "      <td>  0</td>\n",
        "      <td>  0</td>\n",
        "      <td>  0</td>\n",
        "    </tr>\n",
        "    <tr>\n",
        "      <th>3</th>\n",
        "      <td>  0</td>\n",
        "      <td>  0</td>\n",
        "      <td>  1</td>\n",
        "      <td>  0</td>\n",
        "      <td>  0</td>\n",
        "      <td>  0</td>\n",
        "      <td>  0</td>\n",
        "    </tr>\n",
        "    <tr>\n",
        "      <th>4</th>\n",
        "      <td>  0</td>\n",
        "      <td>  0</td>\n",
        "      <td>  1</td>\n",
        "      <td> 20</td>\n",
        "      <td>  0</td>\n",
        "      <td>  0</td>\n",
        "      <td>  0</td>\n",
        "    </tr>\n",
        "  </tbody>\n",
        "</table>\n",
        "</div>"
       ],
       "metadata": {},
       "output_type": "pyout",
       "prompt_number": 71,
       "text": [
        "   days  hours  minutes  seconds  milliseconds  microseconds  nanoseconds\n",
        "0     0      0        0        0             0             0            0\n",
        "1   NaN    NaN      NaN      NaN           NaN           NaN          NaN\n",
        "2     0      0        0       40             0             0            0\n",
        "3     0      0        1        0             0             0            0\n",
        "4     0      0        1       20             0             0            0"
       ]
      }
     ],
     "prompt_number": 71
    },
    {
     "cell_type": "code",
     "collapsed": false,
     "input": [
      "from datetime import timedelta\n",
      "t = timedelta(days=1,seconds=1)\n",
      "t"
     ],
     "language": "python",
     "metadata": {},
     "outputs": [
      {
       "metadata": {},
       "output_type": "pyout",
       "prompt_number": 72,
       "text": [
        "datetime.timedelta(1, 1)"
       ]
      }
     ],
     "prompt_number": 72
    },
    {
     "cell_type": "code",
     "collapsed": false,
     "input": [
      "t.seconds"
     ],
     "language": "python",
     "metadata": {},
     "outputs": [
      {
       "metadata": {},
       "output_type": "pyout",
       "prompt_number": 73,
       "text": [
        "1"
       ]
      }
     ],
     "prompt_number": 73
    },
    {
     "cell_type": "code",
     "collapsed": false,
     "input": [
      "t.total_seconds()"
     ],
     "language": "python",
     "metadata": {},
     "outputs": [
      {
       "metadata": {},
       "output_type": "pyout",
       "prompt_number": 74,
       "text": [
        "86401.0"
       ]
      }
     ],
     "prompt_number": 74
    },
    {
     "cell_type": "heading",
     "level": 3,
     "metadata": {},
     "source": [
      "TimedeltaIndex"
     ]
    },
    {
     "cell_type": "code",
     "collapsed": false,
     "input": [
      "df = DataFrame({'A' : np.arange(20), \n",
      "                'B' : pd.timedelta_range('1 day',periods=20, freq='6h')}).set_index('B')\n",
      "df"
     ],
     "language": "python",
     "metadata": {},
     "outputs": [
      {
       "html": [
        "<div style=\"max-height:1000px;max-width:1500px;overflow:auto;\">\n",
        "<table border=\"1\" class=\"dataframe\">\n",
        "  <thead>\n",
        "    <tr style=\"text-align: right;\">\n",
        "      <th></th>\n",
        "      <th>A</th>\n",
        "    </tr>\n",
        "    <tr>\n",
        "      <th>B</th>\n",
        "      <th></th>\n",
        "    </tr>\n",
        "  </thead>\n",
        "  <tbody>\n",
        "    <tr>\n",
        "      <th>1 days 00:00:00</th>\n",
        "      <td>  0</td>\n",
        "    </tr>\n",
        "    <tr>\n",
        "      <th>1 days 06:00:00</th>\n",
        "      <td>  1</td>\n",
        "    </tr>\n",
        "    <tr>\n",
        "      <th>1 days 12:00:00</th>\n",
        "      <td>  2</td>\n",
        "    </tr>\n",
        "    <tr>\n",
        "      <th>1 days 18:00:00</th>\n",
        "      <td>  3</td>\n",
        "    </tr>\n",
        "    <tr>\n",
        "      <th>2 days 00:00:00</th>\n",
        "      <td>  4</td>\n",
        "    </tr>\n",
        "    <tr>\n",
        "      <th>2 days 06:00:00</th>\n",
        "      <td>  5</td>\n",
        "    </tr>\n",
        "    <tr>\n",
        "      <th>...</th>\n",
        "      <td>...</td>\n",
        "    </tr>\n",
        "    <tr>\n",
        "      <th>4 days 12:00:00</th>\n",
        "      <td> 14</td>\n",
        "    </tr>\n",
        "    <tr>\n",
        "      <th>4 days 18:00:00</th>\n",
        "      <td> 15</td>\n",
        "    </tr>\n",
        "    <tr>\n",
        "      <th>5 days 00:00:00</th>\n",
        "      <td> 16</td>\n",
        "    </tr>\n",
        "    <tr>\n",
        "      <th>5 days 06:00:00</th>\n",
        "      <td> 17</td>\n",
        "    </tr>\n",
        "    <tr>\n",
        "      <th>5 days 12:00:00</th>\n",
        "      <td> 18</td>\n",
        "    </tr>\n",
        "    <tr>\n",
        "      <th>5 days 18:00:00</th>\n",
        "      <td> 19</td>\n",
        "    </tr>\n",
        "  </tbody>\n",
        "</table>\n",
        "<p>20 rows \u00d7 1 columns</p>\n",
        "</div>"
       ],
       "metadata": {},
       "output_type": "pyout",
       "prompt_number": 75,
       "text": [
        "                  A\n",
        "B                  \n",
        "1 days 00:00:00   0\n",
        "1 days 06:00:00   1\n",
        "1 days 12:00:00   2\n",
        "1 days 18:00:00   3\n",
        "2 days 00:00:00   4\n",
        "2 days 06:00:00   5\n",
        "...              ..\n",
        "4 days 12:00:00  14\n",
        "4 days 18:00:00  15\n",
        "5 days 00:00:00  16\n",
        "5 days 06:00:00  17\n",
        "5 days 12:00:00  18\n",
        "5 days 18:00:00  19\n",
        "\n",
        "[20 rows x 1 columns]"
       ]
      }
     ],
     "prompt_number": 75
    },
    {
     "cell_type": "code",
     "collapsed": false,
     "input": [
      "df['4d']"
     ],
     "language": "python",
     "metadata": {},
     "outputs": [
      {
       "html": [
        "<div style=\"max-height:1000px;max-width:1500px;overflow:auto;\">\n",
        "<table border=\"1\" class=\"dataframe\">\n",
        "  <thead>\n",
        "    <tr style=\"text-align: right;\">\n",
        "      <th></th>\n",
        "      <th>A</th>\n",
        "    </tr>\n",
        "    <tr>\n",
        "      <th>B</th>\n",
        "      <th></th>\n",
        "    </tr>\n",
        "  </thead>\n",
        "  <tbody>\n",
        "    <tr>\n",
        "      <th>4 days 00:00:00</th>\n",
        "      <td> 12</td>\n",
        "    </tr>\n",
        "    <tr>\n",
        "      <th>4 days 06:00:00</th>\n",
        "      <td> 13</td>\n",
        "    </tr>\n",
        "    <tr>\n",
        "      <th>4 days 12:00:00</th>\n",
        "      <td> 14</td>\n",
        "    </tr>\n",
        "    <tr>\n",
        "      <th>4 days 18:00:00</th>\n",
        "      <td> 15</td>\n",
        "    </tr>\n",
        "  </tbody>\n",
        "</table>\n",
        "</div>"
       ],
       "metadata": {},
       "output_type": "pyout",
       "prompt_number": 76,
       "text": [
        "                  A\n",
        "B                  \n",
        "4 days 00:00:00  12\n",
        "4 days 06:00:00  13\n",
        "4 days 12:00:00  14\n",
        "4 days 18:00:00  15"
       ]
      }
     ],
     "prompt_number": 76
    },
    {
     "cell_type": "code",
     "collapsed": false,
     "input": [
      "df.resample('12h',how='sum')"
     ],
     "language": "python",
     "metadata": {},
     "outputs": [
      {
       "html": [
        "<div style=\"max-height:1000px;max-width:1500px;overflow:auto;\">\n",
        "<table border=\"1\" class=\"dataframe\">\n",
        "  <thead>\n",
        "    <tr style=\"text-align: right;\">\n",
        "      <th></th>\n",
        "      <th>A</th>\n",
        "    </tr>\n",
        "    <tr>\n",
        "      <th>B</th>\n",
        "      <th></th>\n",
        "    </tr>\n",
        "  </thead>\n",
        "  <tbody>\n",
        "    <tr>\n",
        "      <th>1 days 00:00:00</th>\n",
        "      <td>  1</td>\n",
        "    </tr>\n",
        "    <tr>\n",
        "      <th>1 days 12:00:00</th>\n",
        "      <td>  5</td>\n",
        "    </tr>\n",
        "    <tr>\n",
        "      <th>2 days 00:00:00</th>\n",
        "      <td>  9</td>\n",
        "    </tr>\n",
        "    <tr>\n",
        "      <th>2 days 12:00:00</th>\n",
        "      <td> 13</td>\n",
        "    </tr>\n",
        "    <tr>\n",
        "      <th>3 days 00:00:00</th>\n",
        "      <td> 17</td>\n",
        "    </tr>\n",
        "    <tr>\n",
        "      <th>3 days 12:00:00</th>\n",
        "      <td> 21</td>\n",
        "    </tr>\n",
        "    <tr>\n",
        "      <th>4 days 00:00:00</th>\n",
        "      <td> 25</td>\n",
        "    </tr>\n",
        "    <tr>\n",
        "      <th>4 days 12:00:00</th>\n",
        "      <td> 29</td>\n",
        "    </tr>\n",
        "    <tr>\n",
        "      <th>5 days 00:00:00</th>\n",
        "      <td> 33</td>\n",
        "    </tr>\n",
        "    <tr>\n",
        "      <th>5 days 12:00:00</th>\n",
        "      <td> 37</td>\n",
        "    </tr>\n",
        "  </tbody>\n",
        "</table>\n",
        "</div>"
       ],
       "metadata": {},
       "output_type": "pyout",
       "prompt_number": 77,
       "text": [
        "                  A\n",
        "B                  \n",
        "1 days 00:00:00   1\n",
        "1 days 12:00:00   5\n",
        "2 days 00:00:00   9\n",
        "2 days 12:00:00  13\n",
        "3 days 00:00:00  17\n",
        "3 days 12:00:00  21\n",
        "4 days 00:00:00  25\n",
        "4 days 12:00:00  29\n",
        "5 days 00:00:00  33\n",
        "5 days 12:00:00  37"
       ]
      }
     ],
     "prompt_number": 77
    },
    {
     "cell_type": "heading",
     "level": 3,
     "metadata": {},
     "source": [
      "Index ops"
     ]
    },
    {
     "cell_type": "code",
     "collapsed": false,
     "input": [
      "df.index / df.index[0]"
     ],
     "language": "python",
     "metadata": {},
     "outputs": [
      {
       "metadata": {},
       "output_type": "pyout",
       "prompt_number": 78,
       "text": [
        "Float64Index([1.0, 1.25, 1.5, 1.75, 2.0, 2.25, 2.5, 2.75, 3.0, 3.25, 3.5, 3.75, 4.0, 4.25, 4.5, 4.75, 5.0, 5.25, 5.5, 5.75], dtype='float64')"
       ]
      }
     ],
     "prompt_number": 78
    },
    {
     "cell_type": "heading",
     "level": 3,
     "metadata": {},
     "source": [
      "Grouping Examples with timedelta"
     ]
    },
    {
     "cell_type": "code",
     "collapsed": false,
     "input": [
      "# partition the timedeltas\n",
      "import pandas\n",
      "import datetime    \n",
      "rawdata = [{'filename': 'image_1.jpg',\n",
      "  'timestamp': datetime.datetime(2014, 11, 13, 19, 14, 16, 152847)},\n",
      " {'filename': 'image_2.jpg',\n",
      "  'timestamp': datetime.datetime(2014, 11, 13, 19, 17, 16, 152847)},\n",
      " {'filename': 'image_3.jpg',\n",
      "  'timestamp': datetime.datetime(2014, 11, 13, 19, 20, 16, 152847)},\n",
      " {'filename': 'image_4.jpg',\n",
      "  'timestamp': datetime.datetime(2014, 11, 13, 20, 14, 16, 152847)},\n",
      " {'filename': 'image_5.jpg',\n",
      "  'timestamp': datetime.datetime(2014, 11, 13, 20, 17, 16, 152847)},\n",
      " {'filename': 'image_6.jpg',\n",
      "  'timestamp': datetime.datetime(2014, 11, 13, 20, 20, 16, 152847)}]\n",
      "df = pandas.DataFrame(rawdata)\n",
      "df"
     ],
     "language": "python",
     "metadata": {},
     "outputs": [
      {
       "html": [
        "<div style=\"max-height:1000px;max-width:1500px;overflow:auto;\">\n",
        "<table border=\"1\" class=\"dataframe\">\n",
        "  <thead>\n",
        "    <tr style=\"text-align: right;\">\n",
        "      <th></th>\n",
        "      <th>filename</th>\n",
        "      <th>timestamp</th>\n",
        "    </tr>\n",
        "  </thead>\n",
        "  <tbody>\n",
        "    <tr>\n",
        "      <th>0</th>\n",
        "      <td> image_1.jpg</td>\n",
        "      <td>2014-11-13 19:14:16.152847</td>\n",
        "    </tr>\n",
        "    <tr>\n",
        "      <th>1</th>\n",
        "      <td> image_2.jpg</td>\n",
        "      <td>2014-11-13 19:17:16.152847</td>\n",
        "    </tr>\n",
        "    <tr>\n",
        "      <th>2</th>\n",
        "      <td> image_3.jpg</td>\n",
        "      <td>2014-11-13 19:20:16.152847</td>\n",
        "    </tr>\n",
        "    <tr>\n",
        "      <th>3</th>\n",
        "      <td> image_4.jpg</td>\n",
        "      <td>2014-11-13 20:14:16.152847</td>\n",
        "    </tr>\n",
        "    <tr>\n",
        "      <th>4</th>\n",
        "      <td> image_5.jpg</td>\n",
        "      <td>2014-11-13 20:17:16.152847</td>\n",
        "    </tr>\n",
        "    <tr>\n",
        "      <th>5</th>\n",
        "      <td> image_6.jpg</td>\n",
        "      <td>2014-11-13 20:20:16.152847</td>\n",
        "    </tr>\n",
        "  </tbody>\n",
        "</table>\n",
        "</div>"
       ],
       "metadata": {},
       "output_type": "pyout",
       "prompt_number": 79,
       "text": [
        "      filename                  timestamp\n",
        "0  image_1.jpg 2014-11-13 19:14:16.152847\n",
        "1  image_2.jpg 2014-11-13 19:17:16.152847\n",
        "2  image_3.jpg 2014-11-13 19:20:16.152847\n",
        "3  image_4.jpg 2014-11-13 20:14:16.152847\n",
        "4  image_5.jpg 2014-11-13 20:17:16.152847\n",
        "5  image_6.jpg 2014-11-13 20:20:16.152847"
       ]
      }
     ],
     "prompt_number": 79
    },
    {
     "cell_type": "code",
     "collapsed": false,
     "input": [
      "df['timestamp'].diff()"
     ],
     "language": "python",
     "metadata": {},
     "outputs": [
      {
       "metadata": {},
       "output_type": "pyout",
       "prompt_number": 80,
       "text": [
        "0        NaT\n",
        "1   00:03:00\n",
        "2   00:03:00\n",
        "3   00:54:00\n",
        "4   00:03:00\n",
        "5   00:03:00\n",
        "Name: timestamp, dtype: timedelta64[ns]"
       ]
      }
     ],
     "prompt_number": 80
    },
    {
     "cell_type": "code",
     "collapsed": false,
     "input": [
      "df['timestamp'].diff() > pd.Timedelta(minutes=30)"
     ],
     "language": "python",
     "metadata": {},
     "outputs": [
      {
       "metadata": {},
       "output_type": "pyout",
       "prompt_number": 81,
       "text": [
        "0    False\n",
        "1    False\n",
        "2    False\n",
        "3     True\n",
        "4    False\n",
        "5    False\n",
        "Name: timestamp, dtype: bool"
       ]
      }
     ],
     "prompt_number": 81
    },
    {
     "cell_type": "code",
     "collapsed": false,
     "input": [
      "(df[\"timestamp\"].diff() > pd.Timedelta(minutes=30)).cumsum()"
     ],
     "language": "python",
     "metadata": {},
     "outputs": [
      {
       "metadata": {},
       "output_type": "pyout",
       "prompt_number": 82,
       "text": [
        "0    0\n",
        "1    0\n",
        "2    0\n",
        "3    1\n",
        "4    1\n",
        "5    1\n",
        "Name: timestamp, dtype: int64"
       ]
      }
     ],
     "prompt_number": 82
    },
    {
     "cell_type": "heading",
     "level": 3,
     "metadata": {},
     "source": [
      "Grouping by sections"
     ]
    },
    {
     "cell_type": "code",
     "collapsed": false,
     "input": [
      "data = \",date,value\\n0,2014-11-13 18:06:00,1\\n1,2014-11-13 21:56:00,0\\n2,2014-11-14 03:40:00,1\\n3,2014-11-14 03:55:00,1\\n4,2014-11-14 05:09:00,0\\n\"\n",
      "df = pd.read_csv(StringIO(data),parse_dates=['date'],index_col=0)\n",
      "df"
     ],
     "language": "python",
     "metadata": {},
     "outputs": [
      {
       "html": [
        "<div style=\"max-height:1000px;max-width:1500px;overflow:auto;\">\n",
        "<table border=\"1\" class=\"dataframe\">\n",
        "  <thead>\n",
        "    <tr style=\"text-align: right;\">\n",
        "      <th></th>\n",
        "      <th>date</th>\n",
        "      <th>value</th>\n",
        "    </tr>\n",
        "  </thead>\n",
        "  <tbody>\n",
        "    <tr>\n",
        "      <th>0</th>\n",
        "      <td>2014-11-13 18:06:00</td>\n",
        "      <td> 1</td>\n",
        "    </tr>\n",
        "    <tr>\n",
        "      <th>1</th>\n",
        "      <td>2014-11-13 21:56:00</td>\n",
        "      <td> 0</td>\n",
        "    </tr>\n",
        "    <tr>\n",
        "      <th>2</th>\n",
        "      <td>2014-11-14 03:40:00</td>\n",
        "      <td> 1</td>\n",
        "    </tr>\n",
        "    <tr>\n",
        "      <th>3</th>\n",
        "      <td>2014-11-14 03:55:00</td>\n",
        "      <td> 1</td>\n",
        "    </tr>\n",
        "    <tr>\n",
        "      <th>4</th>\n",
        "      <td>2014-11-14 05:09:00</td>\n",
        "      <td> 0</td>\n",
        "    </tr>\n",
        "  </tbody>\n",
        "</table>\n",
        "</div>"
       ],
       "metadata": {},
       "output_type": "pyout",
       "prompt_number": 83,
       "text": [
        "                 date  value\n",
        "0 2014-11-13 18:06:00      1\n",
        "1 2014-11-13 21:56:00      0\n",
        "2 2014-11-14 03:40:00      1\n",
        "3 2014-11-14 03:55:00      1\n",
        "4 2014-11-14 05:09:00      0"
       ]
      }
     ],
     "prompt_number": 83
    },
    {
     "cell_type": "code",
     "collapsed": false,
     "input": [
      "#Create the grouper. This is a sectioner, that is it find the breakpoints where the value changes and creates groups based on that.\n",
      "df.value.diff(1)"
     ],
     "language": "python",
     "metadata": {},
     "outputs": [
      {
       "metadata": {},
       "output_type": "pyout",
       "prompt_number": 84,
       "text": [
        "0   NaN\n",
        "1    -1\n",
        "2     1\n",
        "3     0\n",
        "4    -1\n",
        "Name: value, dtype: float64"
       ]
      }
     ],
     "prompt_number": 84
    },
    {
     "cell_type": "code",
     "collapsed": false,
     "input": [
      "grouper = (df.value.diff(1)==1).cumsum()\n",
      "grouper"
     ],
     "language": "python",
     "metadata": {},
     "outputs": [
      {
       "metadata": {},
       "output_type": "pyout",
       "prompt_number": 85,
       "text": [
        "0    0\n",
        "1    0\n",
        "2    1\n",
        "3    1\n",
        "4    1\n",
        "Name: value, dtype: int64"
       ]
      }
     ],
     "prompt_number": 85
    },
    {
     "cell_type": "code",
     "collapsed": false,
     "input": [
      "g = df.groupby(grouper)\n",
      "\n",
      "# Calculate the date columns last value minus the first value, yielding a timedelta. These are per-GROUP (e.g. that's what the indices represent).\n",
      "g['date'].last()-g['date'].first()"
     ],
     "language": "python",
     "metadata": {},
     "outputs": [
      {
       "metadata": {},
       "output_type": "pyout",
       "prompt_number": 86,
       "text": [
        "value\n",
        "0       03:50:00\n",
        "1       01:29:00\n",
        "Name: date, dtype: timedelta64[ns]"
       ]
      }
     ],
     "prompt_number": 86
    },
    {
     "cell_type": "code",
     "collapsed": false,
     "input": [
      "# If you wanted to preserve where the original data comes from. This is a transform type of operation.\n",
      "result = g['date'].transform('last')-g['date'].transform('first')\n",
      "result"
     ],
     "language": "python",
     "metadata": {},
     "outputs": [
      {
       "metadata": {},
       "output_type": "pyout",
       "prompt_number": 87,
       "text": [
        "0   03:50:00\n",
        "1   03:50:00\n",
        "2   01:29:00\n",
        "3   01:29:00\n",
        "4   01:29:00\n",
        "dtype: timedelta64[ns]"
       ]
      }
     ],
     "prompt_number": 87
    },
    {
     "cell_type": "code",
     "collapsed": false,
     "input": [
      "# Then you need to select the indices where the original breakpoints happen.\n",
      "result.iloc[grouper.drop_duplicates(take_last=True).index]"
     ],
     "language": "python",
     "metadata": {},
     "outputs": [
      {
       "metadata": {},
       "output_type": "pyout",
       "prompt_number": 88,
       "text": [
        "1   03:50:00\n",
        "4   01:29:00\n",
        "dtype: timedelta64[ns]"
       ]
      }
     ],
     "prompt_number": 88
    },
    {
     "cell_type": "code",
     "collapsed": false,
     "input": [
      "# alternatively\n",
      "g.groups"
     ],
     "language": "python",
     "metadata": {},
     "outputs": [
      {
       "metadata": {},
       "output_type": "pyout",
       "prompt_number": 89,
       "text": [
        "{0: [0, 1], 1: [2, 3, 4]}"
       ]
      }
     ],
     "prompt_number": 89
    },
    {
     "cell_type": "code",
     "collapsed": false,
     "input": [
      "result.iloc[[ g_indexer[-1] for grp,g_indexer in g.groups.items() ]]"
     ],
     "language": "python",
     "metadata": {},
     "outputs": [
      {
       "metadata": {},
       "output_type": "pyout",
       "prompt_number": 90,
       "text": [
        "1   03:50:00\n",
        "4   01:29:00\n",
        "dtype: timedelta64[ns]"
       ]
      }
     ],
     "prompt_number": 90
    },
    {
     "cell_type": "code",
     "collapsed": false,
     "input": [],
     "language": "python",
     "metadata": {},
     "outputs": [],
     "prompt_number": 90
    }
   ],
   "metadata": {}
  }
 ]
}