{
 "metadata": {
  "name": "",
  "signature": "sha256:a77d22673ee73aaf10416a8834a6204e0926359d9c0ed30fb0a1793cc30b8aa8"
 },
 "nbformat": 3,
 "nbformat_minor": 0,
 "worksheets": [
  {
   "cells": [
    {
     "cell_type": "heading",
     "level": 1,
     "metadata": {},
     "source": [
      "Timedeltas"
     ]
    },
    {
     "cell_type": "markdown",
     "metadata": {},
     "source": [
      "docs: http://pandas.pydata.org/pandas-docs/stable/timedeltas.html"
     ]
    },
    {
     "cell_type": "code",
     "collapsed": false,
     "input": [
      "pd.set_option('max_rows',12)\n",
      "from IPython.display import display as disp"
     ],
     "language": "python",
     "metadata": {},
     "outputs": [],
     "prompt_number": 24
    },
    {
     "cell_type": "heading",
     "level": 3,
     "metadata": {},
     "source": [
      "constructors"
     ]
    },
    {
     "cell_type": "code",
     "collapsed": false,
     "input": [
      "Timedelta('1 days 2 hours')"
     ],
     "language": "python",
     "metadata": {},
     "outputs": [
      {
       "metadata": {},
       "output_type": "pyout",
       "prompt_number": 25,
       "text": [
        "Timedelta('1 days 02:00:00')"
       ]
      }
     ],
     "prompt_number": 25
    },
    {
     "cell_type": "code",
     "collapsed": false,
     "input": [
      "Timedelta('-1 days 2 min 3us')"
     ],
     "language": "python",
     "metadata": {},
     "outputs": [
      {
       "metadata": {},
       "output_type": "pyout",
       "prompt_number": 3,
       "text": [
        "Timedelta('-2 days +23:57:59.999997')"
       ]
      }
     ],
     "prompt_number": 3
    },
    {
     "cell_type": "code",
     "collapsed": false,
     "input": [
      "Timedelta(days=1,seconds=1)"
     ],
     "language": "python",
     "metadata": {},
     "outputs": [
      {
       "metadata": {},
       "output_type": "pyout",
       "prompt_number": 4,
       "text": [
        "Timedelta('1 days 00:00:01')"
       ]
      }
     ],
     "prompt_number": 4
    },
    {
     "cell_type": "code",
     "collapsed": false,
     "input": [
      "# units\n",
      "Timedelta(1,unit='d')"
     ],
     "language": "python",
     "metadata": {},
     "outputs": [
      {
       "metadata": {},
       "output_type": "pyout",
       "prompt_number": 5,
       "text": [
        "Timedelta('1 days 00:00:00')"
       ]
      }
     ],
     "prompt_number": 5
    },
    {
     "cell_type": "code",
     "collapsed": false,
     "input": [
      "pd.to_timedelta(range(5),unit='d')"
     ],
     "language": "python",
     "metadata": {},
     "outputs": [
      {
       "metadata": {},
       "output_type": "pyout",
       "prompt_number": 6,
       "text": [
        "<class 'pandas.tseries.tdi.TimedeltaIndex'>\n",
        "['0 days', ..., '4 days']\n",
        "Length: 5, Freq: None"
       ]
      }
     ],
     "prompt_number": 6
    },
    {
     "cell_type": "code",
     "collapsed": false,
     "input": [
      "pd.to_timedelta(['1 days','00:05:23.12345'])"
     ],
     "language": "python",
     "metadata": {},
     "outputs": [
      {
       "metadata": {},
       "output_type": "pyout",
       "prompt_number": 7,
       "text": [
        "<class 'pandas.tseries.tdi.TimedeltaIndex'>\n",
        "['1 days 00:00:00', '0 days 00:05:23.123450']\n",
        "Length: 2, Freq: None"
       ]
      }
     ],
     "prompt_number": 7
    },
    {
     "cell_type": "code",
     "collapsed": false,
     "input": [
      "pd.timedelta_range('1 days',periods=5,freq='10s')"
     ],
     "language": "python",
     "metadata": {},
     "outputs": [
      {
       "metadata": {},
       "output_type": "pyout",
       "prompt_number": 8,
       "text": [
        "<class 'pandas.tseries.tdi.TimedeltaIndex'>\n",
        "['1 days 00:00:00', ..., '1 days 00:00:40']\n",
        "Length: 5, Freq: <10 * Seconds>"
       ]
      }
     ],
     "prompt_number": 8
    },
    {
     "cell_type": "heading",
     "level": 3,
     "metadata": {},
     "source": [
      "creation from dates"
     ]
    },
    {
     "cell_type": "code",
     "collapsed": false,
     "input": [
      "dr = pd.date_range('20140101 09:05:03',periods=5,freq='20s')\n",
      "dr"
     ],
     "language": "python",
     "metadata": {},
     "outputs": [
      {
       "metadata": {},
       "output_type": "pyout",
       "prompt_number": 9,
       "text": [
        "<class 'pandas.tseries.index.DatetimeIndex'>\n",
        "[2014-01-01 09:05:03, ..., 2014-01-01 09:06:23]\n",
        "Length: 5, Freq: 20S, Timezone: None"
       ]
      }
     ],
     "prompt_number": 9
    },
    {
     "cell_type": "code",
     "collapsed": false,
     "input": [
      "dr - dr[0]"
     ],
     "language": "python",
     "metadata": {},
     "outputs": [
      {
       "metadata": {},
       "output_type": "pyout",
       "prompt_number": 10,
       "text": [
        "<class 'pandas.tseries.tdi.TimedeltaIndex'>\n",
        "['00:00:00', ..., '00:01:20']\n",
        "Length: 5, Freq: None"
       ]
      }
     ],
     "prompt_number": 10
    },
    {
     "cell_type": "code",
     "collapsed": false,
     "input": [
      "(dr - dr[0]).tolist()"
     ],
     "language": "python",
     "metadata": {},
     "outputs": [
      {
       "metadata": {},
       "output_type": "pyout",
       "prompt_number": 11,
       "text": [
        "[Timedelta('0 days 00:00:00'),\n",
        " Timedelta('0 days 00:00:20'),\n",
        " Timedelta('0 days 00:00:40'),\n",
        " Timedelta('0 days 00:01:00'),\n",
        " Timedelta('0 days 00:01:20')]"
       ]
      }
     ],
     "prompt_number": 11
    },
    {
     "cell_type": "code",
     "collapsed": false,
     "input": [
      "dr + Timedelta('1d')"
     ],
     "language": "python",
     "metadata": {},
     "outputs": [
      {
       "metadata": {},
       "output_type": "pyout",
       "prompt_number": 12,
       "text": [
        "<class 'pandas.tseries.index.DatetimeIndex'>\n",
        "[2014-01-02 09:05:03, ..., 2014-01-02 09:06:23]\n",
        "Length: 5, Freq: 20S, Timezone: None"
       ]
      }
     ],
     "prompt_number": 12
    },
    {
     "cell_type": "heading",
     "level": 3,
     "metadata": {},
     "source": [
      "ops"
     ]
    },
    {
     "cell_type": "code",
     "collapsed": false,
     "input": [
      "s = Series(dr - dr[0])\n",
      "s.iloc[1] = np.nan\n",
      "s"
     ],
     "language": "python",
     "metadata": {},
     "outputs": [
      {
       "metadata": {},
       "output_type": "pyout",
       "prompt_number": 13,
       "text": [
        "0   00:00:00\n",
        "1        NaT\n",
        "2   00:00:40\n",
        "3   00:01:00\n",
        "4   00:01:20\n",
        "dtype: timedelta64[ns]"
       ]
      }
     ],
     "prompt_number": 13
    },
    {
     "cell_type": "code",
     "collapsed": false,
     "input": [
      "s.describe()"
     ],
     "language": "python",
     "metadata": {},
     "outputs": [
      {
       "metadata": {},
       "output_type": "pyout",
       "prompt_number": 14,
       "text": [
        "count                         4\n",
        "mean            0 days 00:00:45\n",
        "std      0 days 00:00:34.156502\n",
        "min             0 days 00:00:00\n",
        "25%             0 days 00:00:30\n",
        "50%             0 days 00:00:50\n",
        "75%             0 days 00:01:05\n",
        "max             0 days 00:01:20\n",
        "dtype: object"
       ]
      }
     ],
     "prompt_number": 14
    },
    {
     "cell_type": "heading",
     "level": 3,
     "metadata": {},
     "source": [
      "frequency conversion"
     ]
    },
    {
     "cell_type": "code",
     "collapsed": false,
     "input": [
      "s.astype('timedelta64[s]')"
     ],
     "language": "python",
     "metadata": {},
     "outputs": [
      {
       "metadata": {},
       "output_type": "pyout",
       "prompt_number": 15,
       "text": [
        "0     0\n",
        "1   NaN\n",
        "2    40\n",
        "3    60\n",
        "4    80\n",
        "dtype: float64"
       ]
      }
     ],
     "prompt_number": 15
    },
    {
     "cell_type": "code",
     "collapsed": false,
     "input": [
      "s.astype('timedelta64[D]')"
     ],
     "language": "python",
     "metadata": {},
     "outputs": [
      {
       "metadata": {},
       "output_type": "pyout",
       "prompt_number": 17,
       "text": [
        "0     0\n",
        "1   NaN\n",
        "2     0\n",
        "3     0\n",
        "4     0\n",
        "dtype: float64"
       ]
      }
     ],
     "prompt_number": 17
    },
    {
     "cell_type": "heading",
     "level": 3,
     "metadata": {},
     "source": [
      "place value"
     ]
    },
    {
     "cell_type": "code",
     "collapsed": false,
     "input": [
      "s.dt.components.seconds"
     ],
     "language": "python",
     "metadata": {},
     "outputs": [
      {
       "metadata": {},
       "output_type": "pyout",
       "prompt_number": 19,
       "text": [
        "0     0\n",
        "1   NaN\n",
        "2    40\n",
        "3     0\n",
        "4    20\n",
        "Name: seconds, dtype: float64"
       ]
      }
     ],
     "prompt_number": 19
    },
    {
     "cell_type": "code",
     "collapsed": false,
     "input": [
      "s.dt.components"
     ],
     "language": "python",
     "metadata": {},
     "outputs": [
      {
       "html": [
        "<div style=\"max-height:1000px;max-width:1500px;overflow:auto;\">\n",
        "<table border=\"1\" class=\"dataframe\">\n",
        "  <thead>\n",
        "    <tr style=\"text-align: right;\">\n",
        "      <th></th>\n",
        "      <th>days</th>\n",
        "      <th>hours</th>\n",
        "      <th>minutes</th>\n",
        "      <th>seconds</th>\n",
        "      <th>milliseconds</th>\n",
        "      <th>microseconds</th>\n",
        "      <th>nanoseconds</th>\n",
        "    </tr>\n",
        "  </thead>\n",
        "  <tbody>\n",
        "    <tr>\n",
        "      <th>0</th>\n",
        "      <td>  0</td>\n",
        "      <td>  0</td>\n",
        "      <td>  0</td>\n",
        "      <td>  0</td>\n",
        "      <td>  0</td>\n",
        "      <td>  0</td>\n",
        "      <td>  0</td>\n",
        "    </tr>\n",
        "    <tr>\n",
        "      <th>1</th>\n",
        "      <td>NaN</td>\n",
        "      <td>NaN</td>\n",
        "      <td>NaN</td>\n",
        "      <td>NaN</td>\n",
        "      <td>NaN</td>\n",
        "      <td>NaN</td>\n",
        "      <td>NaN</td>\n",
        "    </tr>\n",
        "    <tr>\n",
        "      <th>2</th>\n",
        "      <td>  0</td>\n",
        "      <td>  0</td>\n",
        "      <td>  0</td>\n",
        "      <td> 40</td>\n",
        "      <td>  0</td>\n",
        "      <td>  0</td>\n",
        "      <td>  0</td>\n",
        "    </tr>\n",
        "    <tr>\n",
        "      <th>3</th>\n",
        "      <td>  0</td>\n",
        "      <td>  0</td>\n",
        "      <td>  1</td>\n",
        "      <td>  0</td>\n",
        "      <td>  0</td>\n",
        "      <td>  0</td>\n",
        "      <td>  0</td>\n",
        "    </tr>\n",
        "    <tr>\n",
        "      <th>4</th>\n",
        "      <td>  0</td>\n",
        "      <td>  0</td>\n",
        "      <td>  1</td>\n",
        "      <td> 20</td>\n",
        "      <td>  0</td>\n",
        "      <td>  0</td>\n",
        "      <td>  0</td>\n",
        "    </tr>\n",
        "  </tbody>\n",
        "</table>\n",
        "</div>"
       ],
       "metadata": {},
       "output_type": "pyout",
       "prompt_number": 20,
       "text": [
        "   days  hours  minutes  seconds  milliseconds  microseconds  nanoseconds\n",
        "0     0      0        0        0             0             0            0\n",
        "1   NaN    NaN      NaN      NaN           NaN           NaN          NaN\n",
        "2     0      0        0       40             0             0            0\n",
        "3     0      0        1        0             0             0            0\n",
        "4     0      0        1       20             0             0            0"
       ]
      }
     ],
     "prompt_number": 20
    },
    {
     "cell_type": "heading",
     "level": 3,
     "metadata": {},
     "source": [
      "TimedeltaIndex"
     ]
    },
    {
     "cell_type": "code",
     "collapsed": false,
     "input": [
      "df = DataFrame({'A' : np.arange(20), \n",
      "                'B' : pd.timedelta_range('1 day',periods=20, freq='6h')}).set_index('B')\n",
      "df"
     ],
     "language": "python",
     "metadata": {},
     "outputs": [
      {
       "html": [
        "<div style=\"max-height:1000px;max-width:1500px;overflow:auto;\">\n",
        "<table border=\"1\" class=\"dataframe\">\n",
        "  <thead>\n",
        "    <tr style=\"text-align: right;\">\n",
        "      <th></th>\n",
        "      <th>A</th>\n",
        "    </tr>\n",
        "    <tr>\n",
        "      <th>B</th>\n",
        "      <th></th>\n",
        "    </tr>\n",
        "  </thead>\n",
        "  <tbody>\n",
        "    <tr>\n",
        "      <th>1 days 00:00:00</th>\n",
        "      <td>  0</td>\n",
        "    </tr>\n",
        "    <tr>\n",
        "      <th>1 days 06:00:00</th>\n",
        "      <td>  1</td>\n",
        "    </tr>\n",
        "    <tr>\n",
        "      <th>1 days 12:00:00</th>\n",
        "      <td>  2</td>\n",
        "    </tr>\n",
        "    <tr>\n",
        "      <th>1 days 18:00:00</th>\n",
        "      <td>  3</td>\n",
        "    </tr>\n",
        "    <tr>\n",
        "      <th>2 days 00:00:00</th>\n",
        "      <td>  4</td>\n",
        "    </tr>\n",
        "    <tr>\n",
        "      <th>2 days 06:00:00</th>\n",
        "      <td>  5</td>\n",
        "    </tr>\n",
        "    <tr>\n",
        "      <th>...</th>\n",
        "      <td>...</td>\n",
        "    </tr>\n",
        "    <tr>\n",
        "      <th>4 days 12:00:00</th>\n",
        "      <td> 14</td>\n",
        "    </tr>\n",
        "    <tr>\n",
        "      <th>4 days 18:00:00</th>\n",
        "      <td> 15</td>\n",
        "    </tr>\n",
        "    <tr>\n",
        "      <th>5 days 00:00:00</th>\n",
        "      <td> 16</td>\n",
        "    </tr>\n",
        "    <tr>\n",
        "      <th>5 days 06:00:00</th>\n",
        "      <td> 17</td>\n",
        "    </tr>\n",
        "    <tr>\n",
        "      <th>5 days 12:00:00</th>\n",
        "      <td> 18</td>\n",
        "    </tr>\n",
        "    <tr>\n",
        "      <th>5 days 18:00:00</th>\n",
        "      <td> 19</td>\n",
        "    </tr>\n",
        "  </tbody>\n",
        "</table>\n",
        "<p>20 rows \u00d7 1 columns</p>\n",
        "</div>"
       ],
       "metadata": {},
       "output_type": "pyout",
       "prompt_number": 21,
       "text": [
        "                  A\n",
        "B                  \n",
        "1 days 00:00:00   0\n",
        "1 days 06:00:00   1\n",
        "1 days 12:00:00   2\n",
        "1 days 18:00:00   3\n",
        "2 days 00:00:00   4\n",
        "2 days 06:00:00   5\n",
        "...              ..\n",
        "4 days 12:00:00  14\n",
        "4 days 18:00:00  15\n",
        "5 days 00:00:00  16\n",
        "5 days 06:00:00  17\n",
        "5 days 12:00:00  18\n",
        "5 days 18:00:00  19\n",
        "\n",
        "[20 rows x 1 columns]"
       ]
      }
     ],
     "prompt_number": 21
    },
    {
     "cell_type": "code",
     "collapsed": false,
     "input": [
      "df['4d']"
     ],
     "language": "python",
     "metadata": {},
     "outputs": [
      {
       "html": [
        "<div style=\"max-height:1000px;max-width:1500px;overflow:auto;\">\n",
        "<table border=\"1\" class=\"dataframe\">\n",
        "  <thead>\n",
        "    <tr style=\"text-align: right;\">\n",
        "      <th></th>\n",
        "      <th>A</th>\n",
        "    </tr>\n",
        "    <tr>\n",
        "      <th>B</th>\n",
        "      <th></th>\n",
        "    </tr>\n",
        "  </thead>\n",
        "  <tbody>\n",
        "    <tr>\n",
        "      <th>4 days 00:00:00</th>\n",
        "      <td> 12</td>\n",
        "    </tr>\n",
        "    <tr>\n",
        "      <th>4 days 06:00:00</th>\n",
        "      <td> 13</td>\n",
        "    </tr>\n",
        "    <tr>\n",
        "      <th>4 days 12:00:00</th>\n",
        "      <td> 14</td>\n",
        "    </tr>\n",
        "    <tr>\n",
        "      <th>4 days 18:00:00</th>\n",
        "      <td> 15</td>\n",
        "    </tr>\n",
        "  </tbody>\n",
        "</table>\n",
        "</div>"
       ],
       "metadata": {},
       "output_type": "pyout",
       "prompt_number": 22,
       "text": [
        "                  A\n",
        "B                  \n",
        "4 days 00:00:00  12\n",
        "4 days 06:00:00  13\n",
        "4 days 12:00:00  14\n",
        "4 days 18:00:00  15"
       ]
      }
     ],
     "prompt_number": 22
    },
    {
     "cell_type": "code",
     "collapsed": false,
     "input": [
      "df.resample('12h',how='sum')"
     ],
     "language": "python",
     "metadata": {},
     "outputs": [
      {
       "html": [
        "<div style=\"max-height:1000px;max-width:1500px;overflow:auto;\">\n",
        "<table border=\"1\" class=\"dataframe\">\n",
        "  <thead>\n",
        "    <tr style=\"text-align: right;\">\n",
        "      <th></th>\n",
        "      <th>A</th>\n",
        "    </tr>\n",
        "    <tr>\n",
        "      <th>B</th>\n",
        "      <th></th>\n",
        "    </tr>\n",
        "  </thead>\n",
        "  <tbody>\n",
        "    <tr>\n",
        "      <th>1 days 00:00:00</th>\n",
        "      <td>  1</td>\n",
        "    </tr>\n",
        "    <tr>\n",
        "      <th>1 days 12:00:00</th>\n",
        "      <td>  5</td>\n",
        "    </tr>\n",
        "    <tr>\n",
        "      <th>2 days 00:00:00</th>\n",
        "      <td>  9</td>\n",
        "    </tr>\n",
        "    <tr>\n",
        "      <th>2 days 12:00:00</th>\n",
        "      <td> 13</td>\n",
        "    </tr>\n",
        "    <tr>\n",
        "      <th>3 days 00:00:00</th>\n",
        "      <td> 17</td>\n",
        "    </tr>\n",
        "    <tr>\n",
        "      <th>3 days 12:00:00</th>\n",
        "      <td> 21</td>\n",
        "    </tr>\n",
        "    <tr>\n",
        "      <th>4 days 00:00:00</th>\n",
        "      <td> 25</td>\n",
        "    </tr>\n",
        "    <tr>\n",
        "      <th>4 days 12:00:00</th>\n",
        "      <td> 29</td>\n",
        "    </tr>\n",
        "    <tr>\n",
        "      <th>5 days 00:00:00</th>\n",
        "      <td> 33</td>\n",
        "    </tr>\n",
        "    <tr>\n",
        "      <th>5 days 12:00:00</th>\n",
        "      <td> 37</td>\n",
        "    </tr>\n",
        "  </tbody>\n",
        "</table>\n",
        "</div>"
       ],
       "metadata": {},
       "output_type": "pyout",
       "prompt_number": 23,
       "text": [
        "                  A\n",
        "B                  \n",
        "1 days 00:00:00   1\n",
        "1 days 12:00:00   5\n",
        "2 days 00:00:00   9\n",
        "2 days 12:00:00  13\n",
        "3 days 00:00:00  17\n",
        "3 days 12:00:00  21\n",
        "4 days 00:00:00  25\n",
        "4 days 12:00:00  29\n",
        "5 days 00:00:00  33\n",
        "5 days 12:00:00  37"
       ]
      }
     ],
     "prompt_number": 23
    },
    {
     "cell_type": "heading",
     "level": 3,
     "metadata": {},
     "source": [
      "Indexing Examples with timedelta"
     ]
    },
    {
     "cell_type": "code",
     "collapsed": false,
     "input": [
      "# partition the timedeltas\n",
      "import pandas\n",
      "import datetime    \n",
      "rawdata = [{'filename': 'image_1.jpg',\n",
      "  'timestamp': datetime.datetime(2014, 11, 13, 19, 14, 16, 152847)},\n",
      " {'filename': 'image_2.jpg',\n",
      "  'timestamp': datetime.datetime(2014, 11, 13, 19, 17, 16, 152847)},\n",
      " {'filename': 'image_3.jpg',\n",
      "  'timestamp': datetime.datetime(2014, 11, 13, 19, 20, 16, 152847)},\n",
      " {'filename': 'image_4.jpg',\n",
      "  'timestamp': datetime.datetime(2014, 11, 13, 20, 14, 16, 152847)},\n",
      " {'filename': 'image_5.jpg',\n",
      "  'timestamp': datetime.datetime(2014, 11, 13, 20, 17, 16, 152847)},\n",
      " {'filename': 'image_6.jpg',\n",
      "  'timestamp': datetime.datetime(2014, 11, 13, 20, 20, 16, 152847)}]\n",
      "df = pandas.DataFrame(rawdata)\n",
      "df"
     ],
     "language": "python",
     "metadata": {},
     "outputs": [
      {
       "html": [
        "<div style=\"max-height:1000px;max-width:1500px;overflow:auto;\">\n",
        "<table border=\"1\" class=\"dataframe\">\n",
        "  <thead>\n",
        "    <tr style=\"text-align: right;\">\n",
        "      <th></th>\n",
        "      <th>filename</th>\n",
        "      <th>timestamp</th>\n",
        "    </tr>\n",
        "  </thead>\n",
        "  <tbody>\n",
        "    <tr>\n",
        "      <th>0</th>\n",
        "      <td> image_1.jpg</td>\n",
        "      <td>2014-11-13 19:14:16.152847</td>\n",
        "    </tr>\n",
        "    <tr>\n",
        "      <th>1</th>\n",
        "      <td> image_2.jpg</td>\n",
        "      <td>2014-11-13 19:17:16.152847</td>\n",
        "    </tr>\n",
        "    <tr>\n",
        "      <th>2</th>\n",
        "      <td> image_3.jpg</td>\n",
        "      <td>2014-11-13 19:20:16.152847</td>\n",
        "    </tr>\n",
        "    <tr>\n",
        "      <th>3</th>\n",
        "      <td> image_4.jpg</td>\n",
        "      <td>2014-11-13 20:14:16.152847</td>\n",
        "    </tr>\n",
        "    <tr>\n",
        "      <th>4</th>\n",
        "      <td> image_5.jpg</td>\n",
        "      <td>2014-11-13 20:17:16.152847</td>\n",
        "    </tr>\n",
        "    <tr>\n",
        "      <th>5</th>\n",
        "      <td> image_6.jpg</td>\n",
        "      <td>2014-11-13 20:20:16.152847</td>\n",
        "    </tr>\n",
        "  </tbody>\n",
        "</table>\n",
        "</div>"
       ],
       "metadata": {},
       "output_type": "pyout",
       "prompt_number": 31,
       "text": [
        "      filename                  timestamp\n",
        "0  image_1.jpg 2014-11-13 19:14:16.152847\n",
        "1  image_2.jpg 2014-11-13 19:17:16.152847\n",
        "2  image_3.jpg 2014-11-13 19:20:16.152847\n",
        "3  image_4.jpg 2014-11-13 20:14:16.152847\n",
        "4  image_5.jpg 2014-11-13 20:17:16.152847\n",
        "5  image_6.jpg 2014-11-13 20:20:16.152847"
       ]
      }
     ],
     "prompt_number": 31
    },
    {
     "cell_type": "code",
     "collapsed": false,
     "input": [
      "df['timestamp'].diff()"
     ],
     "language": "python",
     "metadata": {},
     "outputs": [
      {
       "metadata": {},
       "output_type": "pyout",
       "prompt_number": 32,
       "text": [
        "0        NaT\n",
        "1   00:03:00\n",
        "2   00:03:00\n",
        "3   00:54:00\n",
        "4   00:03:00\n",
        "5   00:03:00\n",
        "Name: timestamp, dtype: timedelta64[ns]"
       ]
      }
     ],
     "prompt_number": 32
    },
    {
     "cell_type": "code",
     "collapsed": false,
     "input": [
      "df['timestamp'].diff() > pd.Timedelta(minutes=30)"
     ],
     "language": "python",
     "metadata": {},
     "outputs": [
      {
       "metadata": {},
       "output_type": "pyout",
       "prompt_number": 33,
       "text": [
        "0    False\n",
        "1    False\n",
        "2    False\n",
        "3     True\n",
        "4    False\n",
        "5    False\n",
        "Name: timestamp, dtype: bool"
       ]
      }
     ],
     "prompt_number": 33
    },
    {
     "cell_type": "code",
     "collapsed": false,
     "input": [],
     "language": "python",
     "metadata": {},
     "outputs": [],
     "prompt_number": 90
    },
    {
     "cell_type": "code",
     "collapsed": false,
     "input": [],
     "language": "python",
     "metadata": {},
     "outputs": []
    }
   ],
   "metadata": {}
  }
 ]
}