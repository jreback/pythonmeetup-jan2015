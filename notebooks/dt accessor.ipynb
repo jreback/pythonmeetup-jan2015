{
 "metadata": {
  "name": "",
  "signature": "sha256:6d4c2694d472163a2df43eae8225909aebcfe329dae8b41d9a1ff5421715b6de"
 },
 "nbformat": 3,
 "nbformat_minor": 0,
 "worksheets": [
  {
   "cells": [
    {
     "cell_type": "heading",
     "level": 2,
     "metadata": {},
     "source": [
      ".dt accessor"
     ]
    },
    {
     "cell_type": "markdown",
     "metadata": {},
     "source": [
      "docs: http://pandas.pydata.org/pandas-docs/stable/basics.html#dt-accessor"
     ]
    },
    {
     "cell_type": "code",
     "collapsed": false,
     "input": [
      "from IPython.display import display as disp\n",
      "pd.set_option('max_rows',14)"
     ],
     "language": "python",
     "metadata": {},
     "outputs": [],
     "prompt_number": 27
    },
    {
     "cell_type": "code",
     "collapsed": false,
     "input": [
      "s = Series(pd.date_range('20130101 01:23:45.678',periods=5,freq='12H'))\n",
      "s"
     ],
     "language": "python",
     "metadata": {},
     "outputs": [
      {
       "metadata": {},
       "output_type": "pyout",
       "prompt_number": 28,
       "text": [
        "0   2013-01-01 01:23:45.678000\n",
        "1   2013-01-01 13:23:45.678000\n",
        "2   2013-01-02 01:23:45.678000\n",
        "3   2013-01-02 13:23:45.678000\n",
        "4   2013-01-03 01:23:45.678000\n",
        "dtype: datetime64[ns]"
       ]
      }
     ],
     "prompt_number": 28
    },
    {
     "cell_type": "heading",
     "level": 3,
     "metadata": {},
     "source": [
      "Used to be like this"
     ]
    },
    {
     "cell_type": "code",
     "collapsed": false,
     "input": [
      "pd.DatetimeIndex(s.values).hour"
     ],
     "language": "python",
     "metadata": {},
     "outputs": [
      {
       "metadata": {},
       "output_type": "pyout",
       "prompt_number": 29,
       "text": [
        "array([ 1, 13,  1, 13,  1], dtype=int32)"
       ]
      }
     ],
     "prompt_number": 29
    },
    {
     "cell_type": "heading",
     "level": 3,
     "metadata": {},
     "source": [
      "New Accessor"
     ]
    },
    {
     "cell_type": "code",
     "collapsed": false,
     "input": [
      "s.dt.hour"
     ],
     "language": "python",
     "metadata": {},
     "outputs": [
      {
       "metadata": {},
       "output_type": "pyout",
       "prompt_number": 30,
       "text": [
        "0     1\n",
        "1    13\n",
        "2     1\n",
        "3    13\n",
        "4     1\n",
        "dtype: int64"
       ]
      }
     ],
     "prompt_number": 30
    },
    {
     "cell_type": "code",
     "collapsed": false,
     "input": [
      "s.dt.day"
     ],
     "language": "python",
     "metadata": {},
     "outputs": [
      {
       "metadata": {},
       "output_type": "pyout",
       "prompt_number": 31,
       "text": [
        "0    1\n",
        "1    1\n",
        "2    2\n",
        "3    2\n",
        "4    3\n",
        "dtype: int64"
       ]
      }
     ],
     "prompt_number": 31
    },
    {
     "cell_type": "code",
     "collapsed": false,
     "input": [
      "# tab completion\n",
      "s.dt."
     ],
     "language": "python",
     "metadata": {},
     "outputs": [],
     "prompt_number": 32
    },
    {
     "cell_type": "code",
     "collapsed": false,
     "input": [
      "s[s.dt.hour==1]"
     ],
     "language": "python",
     "metadata": {},
     "outputs": [
      {
       "metadata": {},
       "output_type": "pyout",
       "prompt_number": 33,
       "text": [
        "0   2013-01-01 01:23:45.678000\n",
        "2   2013-01-02 01:23:45.678000\n",
        "4   2013-01-03 01:23:45.678000\n",
        "dtype: datetime64[ns]"
       ]
      }
     ],
     "prompt_number": 33
    },
    {
     "cell_type": "heading",
     "level": 3,
     "metadata": {},
     "source": [
      "Other Index Types"
     ]
    },
    {
     "cell_type": "code",
     "collapsed": false,
     "input": [
      "s = Series(pd.timedelta_range('1 day 5 min 6 sec',periods=5,freq='10min'))\n",
      "s"
     ],
     "language": "python",
     "metadata": {},
     "outputs": [
      {
       "metadata": {},
       "output_type": "pyout",
       "prompt_number": 34,
       "text": [
        "0   1 days 00:05:06\n",
        "1   1 days 00:15:06\n",
        "2   1 days 00:25:06\n",
        "3   1 days 00:35:06\n",
        "4   1 days 00:45:06\n",
        "dtype: timedelta64[ns]"
       ]
      }
     ],
     "prompt_number": 34
    },
    {
     "cell_type": "code",
     "collapsed": false,
     "input": [
      "s.dt.minutes"
     ],
     "language": "python",
     "metadata": {},
     "outputs": [
      {
       "metadata": {},
       "output_type": "pyout",
       "prompt_number": 35,
       "text": [
        "0     5\n",
        "1    15\n",
        "2    25\n",
        "3    35\n",
        "4    45\n",
        "dtype: int64"
       ]
      }
     ],
     "prompt_number": 35
    },
    {
     "cell_type": "code",
     "collapsed": false,
     "input": [
      "s.dt.components"
     ],
     "language": "python",
     "metadata": {},
     "outputs": [
      {
       "html": [
        "<div style=\"max-height:1000px;max-width:1500px;overflow:auto;\">\n",
        "<table border=\"1\" class=\"dataframe\">\n",
        "  <thead>\n",
        "    <tr style=\"text-align: right;\">\n",
        "      <th></th>\n",
        "      <th>days</th>\n",
        "      <th>hours</th>\n",
        "      <th>minutes</th>\n",
        "      <th>seconds</th>\n",
        "      <th>milliseconds</th>\n",
        "      <th>microseconds</th>\n",
        "      <th>nanoseconds</th>\n",
        "    </tr>\n",
        "  </thead>\n",
        "  <tbody>\n",
        "    <tr>\n",
        "      <th>0</th>\n",
        "      <td> 1</td>\n",
        "      <td> 0</td>\n",
        "      <td>  5</td>\n",
        "      <td> 6</td>\n",
        "      <td> 0</td>\n",
        "      <td> 0</td>\n",
        "      <td> 0</td>\n",
        "    </tr>\n",
        "    <tr>\n",
        "      <th>1</th>\n",
        "      <td> 1</td>\n",
        "      <td> 0</td>\n",
        "      <td> 15</td>\n",
        "      <td> 6</td>\n",
        "      <td> 0</td>\n",
        "      <td> 0</td>\n",
        "      <td> 0</td>\n",
        "    </tr>\n",
        "    <tr>\n",
        "      <th>2</th>\n",
        "      <td> 1</td>\n",
        "      <td> 0</td>\n",
        "      <td> 25</td>\n",
        "      <td> 6</td>\n",
        "      <td> 0</td>\n",
        "      <td> 0</td>\n",
        "      <td> 0</td>\n",
        "    </tr>\n",
        "    <tr>\n",
        "      <th>3</th>\n",
        "      <td> 1</td>\n",
        "      <td> 0</td>\n",
        "      <td> 35</td>\n",
        "      <td> 6</td>\n",
        "      <td> 0</td>\n",
        "      <td> 0</td>\n",
        "      <td> 0</td>\n",
        "    </tr>\n",
        "    <tr>\n",
        "      <th>4</th>\n",
        "      <td> 1</td>\n",
        "      <td> 0</td>\n",
        "      <td> 45</td>\n",
        "      <td> 6</td>\n",
        "      <td> 0</td>\n",
        "      <td> 0</td>\n",
        "      <td> 0</td>\n",
        "    </tr>\n",
        "  </tbody>\n",
        "</table>\n",
        "</div>"
       ],
       "metadata": {},
       "output_type": "pyout",
       "prompt_number": 36,
       "text": [
        "   days  hours  minutes  seconds  milliseconds  microseconds  nanoseconds\n",
        "0     1      0        5        6             0             0            0\n",
        "1     1      0       15        6             0             0            0\n",
        "2     1      0       25        6             0             0            0\n",
        "3     1      0       35        6             0             0            0\n",
        "4     1      0       45        6             0             0            0"
       ]
      }
     ],
     "prompt_number": 36
    },
    {
     "cell_type": "code",
     "collapsed": false,
     "input": [
      "s[s.dt.minutes>30]"
     ],
     "language": "python",
     "metadata": {},
     "outputs": [
      {
       "metadata": {},
       "output_type": "pyout",
       "prompt_number": 37,
       "text": [
        "3   1 days 00:35:06\n",
        "4   1 days 00:45:06\n",
        "dtype: timedelta64[ns]"
       ]
      }
     ],
     "prompt_number": 37
    },
    {
     "cell_type": "heading",
     "level": 3,
     "metadata": {},
     "source": [
      "Chain Ops"
     ]
    },
    {
     "cell_type": "code",
     "collapsed": false,
     "input": [
      "s = Series(pd.date_range('20130101 09:10:11',periods=5))\n",
      "s"
     ],
     "language": "python",
     "metadata": {},
     "outputs": [
      {
       "metadata": {},
       "output_type": "pyout",
       "prompt_number": 38,
       "text": [
        "0   2013-01-01 09:10:11\n",
        "1   2013-01-02 09:10:11\n",
        "2   2013-01-03 09:10:11\n",
        "3   2013-01-04 09:10:11\n",
        "4   2013-01-05 09:10:11\n",
        "dtype: datetime64[ns]"
       ]
      }
     ],
     "prompt_number": 38
    },
    {
     "cell_type": "code",
     "collapsed": false,
     "input": [
      "s.dt.tz_localize('US/Eastern')"
     ],
     "language": "python",
     "metadata": {},
     "outputs": [
      {
       "metadata": {},
       "output_type": "pyout",
       "prompt_number": 39,
       "text": [
        "0    2013-01-01 09:10:11-05:00\n",
        "1    2013-01-02 09:10:11-05:00\n",
        "2    2013-01-03 09:10:11-05:00\n",
        "3    2013-01-04 09:10:11-05:00\n",
        "4    2013-01-05 09:10:11-05:00\n",
        "dtype: object"
       ]
      }
     ],
     "prompt_number": 39
    },
    {
     "cell_type": "code",
     "collapsed": false,
     "input": [
      "s.dt.tz_localize('US/Eastern').dt.tz_convert('CET')"
     ],
     "language": "python",
     "metadata": {},
     "outputs": [
      {
       "metadata": {},
       "output_type": "pyout",
       "prompt_number": 40,
       "text": [
        "0    2013-01-01 15:10:11+01:00\n",
        "1    2013-01-02 15:10:11+01:00\n",
        "2    2013-01-03 15:10:11+01:00\n",
        "3    2013-01-04 15:10:11+01:00\n",
        "4    2013-01-05 15:10:11+01:00\n",
        "dtype: object"
       ]
      }
     ],
     "prompt_number": 40
    },
    {
     "cell_type": "code",
     "collapsed": false,
     "input": [
      "s.dt.tz_localize('US/Eastern').dt.tz_convert('CET').dt.tz"
     ],
     "language": "python",
     "metadata": {},
     "outputs": [
      {
       "metadata": {},
       "output_type": "pyout",
       "prompt_number": 41,
       "text": [
        "<DstTzInfo 'CET' CET+1:00:00 STD>"
       ]
      }
     ],
     "prompt_number": 41
    },
    {
     "cell_type": "code",
     "collapsed": false,
     "input": [],
     "language": "python",
     "metadata": {},
     "outputs": [],
     "prompt_number": 41
    }
   ],
   "metadata": {}
  }
 ]
}